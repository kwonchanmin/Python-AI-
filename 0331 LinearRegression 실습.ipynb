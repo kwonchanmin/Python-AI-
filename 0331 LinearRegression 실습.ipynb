{
 "cells": [
  {
   "cell_type": "code",
   "execution_count": 53,
   "id": "326ff2a3",
   "metadata": {},
   "outputs": [
    {
     "data": {
      "text/html": [
       "<div>\n",
       "<style scoped>\n",
       "    .dataframe tbody tr th:only-of-type {\n",
       "        vertical-align: middle;\n",
       "    }\n",
       "\n",
       "    .dataframe tbody tr th {\n",
       "        vertical-align: top;\n",
       "    }\n",
       "\n",
       "    .dataframe thead th {\n",
       "        text-align: right;\n",
       "    }\n",
       "</style>\n",
       "<table border=\"1\" class=\"dataframe\">\n",
       "  <thead>\n",
       "    <tr style=\"text-align: right;\">\n",
       "      <th></th>\n",
       "      <th>Ozone</th>\n",
       "      <th>Solar.R</th>\n",
       "      <th>Wind</th>\n",
       "      <th>Temp</th>\n",
       "      <th>Month</th>\n",
       "      <th>Day</th>\n",
       "    </tr>\n",
       "  </thead>\n",
       "  <tbody>\n",
       "    <tr>\n",
       "      <th>0</th>\n",
       "      <td>41.0</td>\n",
       "      <td>190.0</td>\n",
       "      <td>7.4</td>\n",
       "      <td>67</td>\n",
       "      <td>5</td>\n",
       "      <td>1</td>\n",
       "    </tr>\n",
       "    <tr>\n",
       "      <th>1</th>\n",
       "      <td>36.0</td>\n",
       "      <td>118.0</td>\n",
       "      <td>8.0</td>\n",
       "      <td>72</td>\n",
       "      <td>5</td>\n",
       "      <td>2</td>\n",
       "    </tr>\n",
       "    <tr>\n",
       "      <th>2</th>\n",
       "      <td>12.0</td>\n",
       "      <td>149.0</td>\n",
       "      <td>12.6</td>\n",
       "      <td>74</td>\n",
       "      <td>5</td>\n",
       "      <td>3</td>\n",
       "    </tr>\n",
       "    <tr>\n",
       "      <th>3</th>\n",
       "      <td>18.0</td>\n",
       "      <td>313.0</td>\n",
       "      <td>11.5</td>\n",
       "      <td>62</td>\n",
       "      <td>5</td>\n",
       "      <td>4</td>\n",
       "    </tr>\n",
       "    <tr>\n",
       "      <th>4</th>\n",
       "      <td>NaN</td>\n",
       "      <td>NaN</td>\n",
       "      <td>14.3</td>\n",
       "      <td>56</td>\n",
       "      <td>5</td>\n",
       "      <td>5</td>\n",
       "    </tr>\n",
       "  </tbody>\n",
       "</table>\n",
       "</div>"
      ],
      "text/plain": [
       "   Ozone  Solar.R  Wind  Temp  Month  Day\n",
       "0   41.0    190.0   7.4    67      5    1\n",
       "1   36.0    118.0   8.0    72      5    2\n",
       "2   12.0    149.0  12.6    74      5    3\n",
       "3   18.0    313.0  11.5    62      5    4\n",
       "4    NaN      NaN  14.3    56      5    5"
      ]
     },
     "metadata": {},
     "output_type": "display_data"
    }
   ],
   "source": [
    "# 온도에 따른 오존량을 학습시켜 보자\n",
    "\n",
    "# 필요한 modul을 불러들인다.\n",
    "import numpy as np\n",
    "import pandas as pd\n",
    "from tensorflow.keras.models import Sequential\n",
    "from tensorflow.keras.layers import Flatten, Dense\n",
    "from tensorflow.keras.optimizers import SGD\n",
    "import matplotlib.pyplot as plt\n",
    "\n",
    "# Raw Data Loading\n",
    "df = pd.read_csv('./Data/ozone.csv')\n",
    "display(df.head())"
   ]
  },
  {
   "cell_type": "code",
   "execution_count": 59,
   "id": "642d771b",
   "metadata": {},
   "outputs": [
    {
     "data": {
      "text/html": [
       "<div>\n",
       "<style scoped>\n",
       "    .dataframe tbody tr th:only-of-type {\n",
       "        vertical-align: middle;\n",
       "    }\n",
       "\n",
       "    .dataframe tbody tr th {\n",
       "        vertical-align: top;\n",
       "    }\n",
       "\n",
       "    .dataframe thead th {\n",
       "        text-align: right;\n",
       "    }\n",
       "</style>\n",
       "<table border=\"1\" class=\"dataframe\">\n",
       "  <thead>\n",
       "    <tr style=\"text-align: right;\">\n",
       "      <th></th>\n",
       "      <th>Ozone</th>\n",
       "      <th>Temp</th>\n",
       "    </tr>\n",
       "  </thead>\n",
       "  <tbody>\n",
       "    <tr>\n",
       "      <th>0</th>\n",
       "      <td>41.0</td>\n",
       "      <td>67</td>\n",
       "    </tr>\n",
       "    <tr>\n",
       "      <th>1</th>\n",
       "      <td>36.0</td>\n",
       "      <td>72</td>\n",
       "    </tr>\n",
       "    <tr>\n",
       "      <th>2</th>\n",
       "      <td>12.0</td>\n",
       "      <td>74</td>\n",
       "    </tr>\n",
       "    <tr>\n",
       "      <th>3</th>\n",
       "      <td>18.0</td>\n",
       "      <td>62</td>\n",
       "    </tr>\n",
       "    <tr>\n",
       "      <th>5</th>\n",
       "      <td>28.0</td>\n",
       "      <td>66</td>\n",
       "    </tr>\n",
       "  </tbody>\n",
       "</table>\n",
       "</div>"
      ],
      "text/plain": [
       "   Ozone  Temp\n",
       "0   41.0    67\n",
       "1   36.0    72\n",
       "2   12.0    74\n",
       "3   18.0    62\n",
       "5   28.0    66"
      ]
     },
     "metadata": {},
     "output_type": "display_data"
    },
    {
     "data": {
      "text/plain": [
       "(116, 2)"
      ]
     },
     "metadata": {},
     "output_type": "display_data"
    }
   ],
   "source": [
    "df = df[['Ozone','Temp']]\n",
    "# 데이터 전처리를 실행해야 된다.\n",
    "# 1. 제일 먼저 결측치 처리를 해야 한다.(지금은 그냥 삭제할꺼다.)\n",
    "df = df.dropna(how='any')\n",
    "\n",
    "display(df.head(),df.shape) #(116, 2)"
   ]
  },
  {
   "cell_type": "code",
   "execution_count": 79,
   "id": "af060459",
   "metadata": {},
   "outputs": [
    {
     "data": {
      "text/plain": [
       "<keras.callbacks.History at 0x17e9fb8e0>"
      ]
     },
     "execution_count": 79,
     "metadata": {},
     "output_type": "execute_result"
    }
   ],
   "source": [
    "# Training Data Set\n",
    "\n",
    "x_data = df['Temp'].values.reshape(-1,1) # x_data를 2차원으로 만들어야 한다. \n",
    "t_data = df['Ozone'].values.reshape(-1,1)\n",
    "\n",
    "# 데이터 전처리!\n",
    "from sklearn.preprocessing import MinMaxScaler\n",
    "scaler_x = MinMaxScaler() \n",
    "scaler_x.fit(x_data) # scaler_x에게 x x데이터가 가지고 있는 최대 최소값을 알려준다.\n",
    "x_data_norm = scaler_x.transform(x_data)\n",
    "\n",
    "scaler_t = MinMaxScaler() \n",
    "scaler_t.fit(t_data) # scaler_t에게 t데이터가 가지고 있는 최대 최소값을 알려준다.\n",
    "t_data_norm = scaler_t.transform(t_data)\n",
    "\n",
    "# Model\n",
    "keras_model = Sequential()\n",
    "\n",
    "# Layer\n",
    "input_layer = Flatten(input_shape=(1,)) \n",
    "# 중요한건 input layer에는 동글뱅이가 있는데 몇개 있는지 표시해 줘야한다.\n",
    "# 그 방법은 ()안에 input_shape()로 shape()의 인자로 알려주면 된다.\n",
    "output_layer = Dense(1,activation='linear')\n",
    "\n",
    "# Model에 layer 추가\n",
    "keras_model.add(input_layer)\n",
    "keras_model.add(output_layer)\n",
    "\n",
    "# Model 설정\n",
    "keras_model.compile(optimizer=SGD(learning_rate=1e-4), #1e-4 는 10의 -4승이라는 의미\n",
    "                   loss='mse')\n",
    "\n",
    "# Model 학습\n",
    "# keras_model.fit(x_data, t_data, epochs=2000, verbose=0)\n",
    "keras_model.fit(x_data_norm, t_data_norm, epochs=2000, verbose=0) # 전처리가 끝난 데이터"
   ]
  },
  {
   "cell_type": "code",
   "execution_count": 67,
   "id": "2923332d",
   "metadata": {},
   "outputs": [],
   "source": [
    "# 학습이 끝났으면 모델 평가가 이루어져야한다.\n",
    "# 문제는 우리가 아직 평가를 할 줄 모른다.\n",
    "# 일단 그냥 넘어가자"
   ]
  },
  {
   "cell_type": "code",
   "execution_count": 88,
   "id": "75b89ef8",
   "metadata": {},
   "outputs": [
    {
     "name": "stdout",
     "output_type": "stream",
     "text": [
      "1/1 [==============================] - 0s 15ms/step\n",
      "[[0.21413347]]\n",
      "[[21.875]]\n"
     ]
    },
    {
     "data": {
      "image/png": "[encoded data removed]",
      "text/plain": [
       "<Figure size 640x480 with 1 Axes>"
      ]
     },
     "metadata": {},
     "output_type": "display_data"
    }
   ],
   "source": [
    "# 평가가 잘 이루어졌다 치고\n",
    "# 모델이 잘 만들어졌으면 예측해보자\n",
    "scaler_data = scaler_x.transform([[62]])\n",
    "result = keras_model.predict(scaler_data) # 화씨 62도 인 경우 오존량은 얼마인가?\n",
    "print(result) #[[34.834694]]  -> [[0.35750902]] -> [[0.21413347]]\n",
    "# [[0.21413347]]는 오존값인데 이게 scaling 되어 있는 값이다.\n",
    "# 그렇게 때문에 원래 오존값을 계산하려면 원복시켜야 된다.\n",
    "real_result = scaler_t.inverse_transform(scaler_data)\n",
    "print(real_result) #[[21.875]]\n",
    "# 안에 랜덤적인 요소가 있기 때문에 결과값이 다 다르다.\n",
    "\n",
    "# 결과가 나오긴 했지만 이게 정답인지 아닌지  알 수가 없다.\n",
    "\n",
    "# 그림으로 확인해 보자\n",
    "plt.scatter(x_data_norm , t_data_norm)\n",
    "\n",
    "weight ,bias = output_layer.get_weights() # 원래 튜플값인데 튜플은 () 를 생략할 수 있다. \n",
    "\n",
    "plt.plot(x_data_norm, x_data_norm * weight +bias, color='m')\n",
    "\n",
    "plt.show()"
   ]
  },
  {
   "cell_type": "code",
   "execution_count": 87,
   "id": "579061e1",
   "metadata": {},
   "outputs": [
    {
     "name": "stdout",
     "output_type": "stream",
     "text": [
      "[[3.58411393]]\n"
     ]
    },
    {
     "data": {
      "image/png": "[encoded data removed]",
      "text/plain": [
       "<Figure size 640x480 with 1 Axes>"
      ]
     },
     "metadata": {},
     "output_type": "display_data"
    }
   ],
   "source": [
    "#그래서 잘 만들어진 라이브러리를 이용해서 정답에 가까운 값을 알아볼꺼다.\n",
    "# 우리 모델과 비교해 볼꺼다.\n",
    "# sklearn이라는 모듈이 있는데 이걸 이용하면 아주 쉽고 간단하게 모델으 생성\n",
    "from sklearn import linear_model\n",
    "\n",
    "#모델을 만들어보자\n",
    "sklearn_model = linear_model.LinearRegression()\n",
    "\n",
    "#학습 진행\n",
    "sklearn_model.fit(x_data, t_data)\n",
    "\n",
    "# 예측!\n",
    "result_sklearn = sklearn_model.predict([[62]])\n",
    "print(result_sklearn) #[[3.58411393]]\n",
    "\n",
    "# 눈으로 확인해보자!! 산점도(scatter)와 점선(model)을 그리자\n",
    "plt.scatter(x_data , t_data)\n",
    "\n",
    "weight = sklearn_model.coef_ # _에 주의하자 꼭 써주야됌 \n",
    "bias = sklearn_model.intercept_\n",
    "\n",
    "plt.plot(x_data, x_data * weight +bias, color='r')\n",
    "\n",
    "plt.show()"
   ]
  },
  {
   "cell_type": "code",
   "execution_count": null,
   "id": "70703100",
   "metadata": {},
   "outputs": [],
   "source": [
    "# 이런 차이가 생기는 이유는\n",
    "# 데이터의 전처리 때문에 그렇다.\n",
    "\n",
    "# 우리가 이럭해야 하는 데이터의 전처리 과정은 3개다.\n",
    "# (원래는 더 많고 약간 수학적 접근해야 한다.)\n",
    "# 1. 결측치 처리\n",
    "# 2. 이상치 처리 (이거 처리해야된다)\n",
    "# 3. 정규화(Normalization) - 반드시 해야한다.\n",
    "#    min-max scaling을 이용할 꺼다. 최대값 1 최소값 0 사이의 값으로 값을 변환\n",
    "\n"
   ]
  }
 ],
 "metadata": {
  "kernelspec": {
   "display_name": "Python [conda env:data_env] *",
   "language": "python",
   "name": "conda-env-data_env-py"
  },
  "language_info": {
   "codemirror_mode": {
    "name": "ipython",
    "version": 3
   },
   "file_extension": ".py",
   "mimetype": "text/x-python",
   "name": "python",
   "nbconvert_exporter": "python",
   "pygments_lexer": "ipython3",
   "version": "3.8.16"
  }
 },
 "nbformat": 4,
 "nbformat_minor": 5
}
