{
 "cells": [
  {
   "cell_type": "code",
   "execution_count": null,
   "id": "e38f8b3b",
   "metadata": {},
   "outputs": [],
   "source": [
    "# 이 상자를 Cell이라고 부른다.\n",
    "# cell을 실행시키려면 control + enter를 누르면 된다.\n",
    "# 새로운 cell을 아래쪽에 추가하려면 \n",
    "# 재생 표시 밑에 빈 공간 누르고 키보드의 B를 누르면 새로 cell이 생성된다. \n",
    "# 또는 위 상단의 코드를 누르면 추가된다.\n",
    "# 새로운 셀을 위에 생성하려면 \n",
    "# 똑같이 재생 밑에 빈 공간을 누르고 A를 누르면 새로운 cell이 위에 생성된다.\n",
    "print('소리벗고 팬티질러')"
   ]
  },
  {
   "cell_type": "code",
   "execution_count": 5,
   "id": "7f842d78",
   "metadata": {},
   "outputs": [],
   "source": [
    "# 변수를 만들고 싶다.\n",
    "a = 100\n",
    "a = 3.14\n",
    "a ='hello'"
   ]
  },
  {
   "cell_type": "code",
   "execution_count": 6,
   "id": "76140132",
   "metadata": {},
   "outputs": [
    {
     "name": "stdout",
     "output_type": "stream",
     "text": [
      "hello\n"
     ]
    }
   ],
   "source": [
    "print(a)"
   ]
  },
  {
   "cell_type": "code",
   "execution_count": null,
   "id": "55edd6a5",
   "metadata": {},
   "outputs": [],
   "source": [
    "#Python의 built-in data type\n",
    "\n",
    "# 1. Numeric(숫자)\n",
    "# 2. Sequence\n",
    "# 3. Text Sequence\n",
    "# 4. Mapping\n",
    "# 5. Set\n",
    "# 6. Bool"
   ]
  },
  {
   "cell_type": "code",
   "execution_count": null,
   "id": "b386b41e",
   "metadata": {},
   "outputs": [],
   "source": [
    "# 1. Numeric(숫자)\n",
    "#     - 정수, 실수, 복소수, 진수(8진수, 16진수)\n",
    "a = 123 # 정수\n",
    "b = 3.14159265358979 # 실수\n",
    "\n",
    "print(type(a))\n",
    "print(type(b))\n",
    "# 파이선 내부에 int 라는 클래스가 있음 심지어 소문자 int 라는 클래스가 자바 클래스 가 있고 거기다가 객체 만드는거지 123이라는 객체\n",
    "# 123 이 자체가 객체, primitive type이 없고 전부 다 객체\n",
    "# 객체 만들려면 클래스가 있어야 하고 \n",
    "# int 클래스에 123 객체 만듬!!!!!!!!!!!!!!!!!!!!!!!!!!!!!\n",
    "\n",
    "# 이들을 통칭해서 numeric이라고 함\n",
    "\n",
    "result = 3/4 # java인 경우 0 \n",
    "print(result) # python은 0/75\n",
    "\n",
    "# 자바는 데이터타입이 명확하게 나눠져있어 3,4 둘다 인티저끼리의 연산은 당연히 인티저\n",
    "# 같은 데이터타입끼리만 연산가능하고 결과도 같은 데이터타입인게 자바\n",
    "# 파이썬은 숫자는 죄다 numeric 물론 내부에 정수, 실수 클래스로 나눠져 있지만 아무튼 numeric이라 실수처리됨\n",
    "# 파이썬은 물론 클래스 int, float 나뉘어져 있긴하지만 숫자는 계산할때 실수처리된다고 생각.\n"
   ]
  },
  {
   "cell_type": "code",
   "execution_count": 5,
   "id": "612ab593",
   "metadata": {},
   "outputs": [
    {
     "name": "stdout",
     "output_type": "stream",
     "text": [
      "<class 'list'>\n"
     ]
    }
   ],
   "source": [
    "# Sequence built -in data type\n",
    "# Sequence는 3가지가 있다.\n",
    "\n",
    "# list (python의 가장 중요한 자료구조이자 data type)\n",
    "# 객체를 순서대로 저장하는 집합형 자료구조\n",
    "# Java의 ArrayList와 상당히 유사\n",
    "# literal은 어떻게 되는가? => []\n",
    "myList = list() # 요소가 없는 list 객체를 만들었다\n",
    "myList = [1,3.14,100] # literal로 list를 표현했다.\n",
    "print(type(myList)) #<class 'list'>\n",
    "\n",
    "# 중첩 리스트도 가능\n",
    "myList = [1,2,3,[3.14,5.25,100],4,5] # list안에 list가 존재할 수 있으며, 이를 중첩list라고 부른다. 파이썬은 차원이 없다. \n",
    "\n",
    "\n"
   ]
  },
  {
   "cell_type": "code",
   "execution_count": 8,
   "id": "42458443",
   "metadata": {},
   "outputs": [
    {
     "name": "stdout",
     "output_type": "stream",
     "text": [
      "[1, 2]\n"
     ]
    }
   ],
   "source": [
    "#print(myList)\n",
    "#print(myList[0]) # indexing 가능\n",
    "#print(myList[-1]) # 5 => indexing에 -가 있으면 뒤에서 센다.\n",
    "#print(myList[3][2]) # 중첩 리스트의 결과를 뽑고 싶으면 중첩리스트를 가리키는[]거 먼저 적고 몇번째 있는 것을 뽑을지를 그 다음 []로 설정\n",
    "# 여기까지가 기본 indexing!!\n",
    "\n",
    "#slicing! => 슬라이싱은 원본과 결과본의 데이터 타입이 같다.\n",
    "# print(myList[0:2]) # 슬라이싱의 앞쪽은 포함이고, 뒤쪽은 불포함이다.\n",
    "# print(myList[0:1]) # #[1]\n",
    "# print(myList[1:]) # :뒤에 숫자가 없으면 끝까지 라는 의미 [2, 3, [3.14, 5.25, 100], 4, 5]\n",
    "print(myList[:2]) # :앞에 숫자가 없으면 뒤에 순서까지만 나오라는 의미 [1,2]\n",
    "# 기본 slicing\n"
   ]
  },
  {
   "cell_type": "code",
   "execution_count": 11,
   "id": "41284717",
   "metadata": {},
   "outputs": [
    {
     "name": "stdout",
     "output_type": "stream",
     "text": [
      "[1, 2, 3, 4, 5, 6]\n",
      "[1, 2, 3, 1, 2, 3, 1, 2, 3]\n"
     ]
    }
   ],
   "source": [
    "# list의 연산\n",
    "a = [1,2,3]\n",
    "b = [4,5,6]\n",
    "c = a+b\n",
    "print(c) # [1, 2, 3, 4, 5, 6] => a+b\n",
    "c = a * 3\n",
    "print(c) # [1, 2, 3, 1, 2, 3, 1, 2, 3] => a+a+a"
   ]
  },
  {
   "cell_type": "code",
   "execution_count": 13,
   "id": "36b882dc",
   "metadata": {},
   "outputs": [
    {
     "name": "stdout",
     "output_type": "stream",
     "text": [
      "[1, 2, 3, 4]\n",
      "[1, 2, 3, 4, [4, 5]]\n"
     ]
    }
   ],
   "source": [
    "# list는 객체다. \n",
    "# 당연히 괸장히 많은 메소드를 가지고 있다.\n",
    "a = [1,2,3]\n",
    "a.append(4)\n",
    "print(a) #[1, 2, 3, 4]\n",
    "a.append([4,5])\n",
    "print(a) #[1, 2, 3, 4, [4, 5]]"
   ]
  },
  {
   "cell_type": "code",
   "execution_count": 1,
   "id": "038108d1",
   "metadata": {},
   "outputs": [
    {
     "name": "stdout",
     "output_type": "stream",
     "text": [
      "3\n",
      "(3,)\n",
      "(1, 2, 3, [4, 100, 6], 7)\n",
      "[1, 2, 3]\n"
     ]
    }
   ],
   "source": [
    "# Sequence built-in data type에 대해서 알아보고 있다.\n",
    "# 1. list\n",
    "# 2. tuple\n",
    "# tuple은 기본적으로 list와 동일\n",
    "# 그런데 tuple은 read oniy\n",
    "# tuple은 literal로 ()를 이용한다.\n",
    "\n",
    "a = tuple() # literal이 아니라 class를 이용해서 객체를 생성!\n",
    "a= (1,2,3,4) #tuple\n",
    "# print(type(a)) #<class 'tuple'>\n",
    "a = (1,) #요소가 1개인 tuple을 이렇게 표현한다.\n",
    "a = (1,2,3,4)\n",
    "print(a[2]) # 3\n",
    "print(a[2:3]) # (3,)\n",
    "# a[3] = 100 # tuple의 값은 바꿀 수 없다.\n",
    "\n",
    "a = (1,2,3,[4,5,6],7)\n",
    "\n",
    "a[3][1] = 100\n",
    "\n",
    "print(a) #(1, 2, 3, [4, 100, 6], 7)\n",
    "\n",
    "a =(1,2,3)\n",
    "#tuple은 기호를 생략할 수 있다.\n",
    "# a = 1,2,3,\n",
    "a,b,c = 1,2,3,\n",
    "\n",
    "# 설명한 내용을 제외한 나머지 특성은 모두 list와 유사\n",
    "\n",
    "a = (1,2,3)\n",
    "b = list(a) #list를 tuple로, tuple을 list로 class를 이용해서 바꿀 수 있다.\n",
    "print(b) #[1, 2, 3]\n"
   ]
  },
  {
   "cell_type": "code",
   "execution_count": 3,
   "id": "8bfe2641",
   "metadata": {},
   "outputs": [
    {
     "name": "stdout",
     "output_type": "stream",
     "text": [
      "range(0, 10)\n"
     ]
    }
   ],
   "source": [
    "# Sequence built-in data type에 대해서 알아보고 있다.\n",
    "# 1. list\n",
    "# 2. tuple\n",
    "# 3. range => literal로 쓰지 않는다,\n",
    "\n",
    "a= range(10) # 시작은 0부터 시작, 10까지 1씩 증가하는 숫자의 범위\n",
    "print(a)\n",
    "a= range(2,20,2) #for문 처럼 2부터 20까지 2씩 증가하라는 의미"
   ]
  },
  {
   "cell_type": "code",
   "execution_count": null,
   "id": "a1af15a3",
   "metadata": {},
   "outputs": [],
   "source": [
    "# 3. Text Sequence \n",
    "# 문자열 str 이거 하나 있음\n",
    "# 사용하는 클래스는 str\n",
    "# literal은 두 가지 '',\"\" 둘 다 사용 가능함. 디폴트는 ''\n",
    "# 문자개념이 없어요.. 모두 다 문자열이에요!\n",
    "a = '이것은 소리없는 아우성!'\n",
    "print(type(a)) # <class 'str'>\n",
    "\n",
    "# Text Sequence는 문자열의 기반은 sequence 시퀀스에 글자가 들어가있으면 text sequence\n",
    "# sequence의 기반은 리스트고 리스트변형해서 튜플,레인지\n",
    "# 시퀀스기반은 리스트인데 텍스트 시퀀스 역시 기반은 리스트 실제로는 문자열은 문자들어간 리스트라 생각하자\n",
    "# 리스트의 성질을 그대로 이어 받아요!\n",
    "\n",
    "a = '홍'\n",
    "b = '길동'\n",
    "print(a+b)"
   ]
  },
  {
   "cell_type": "code",
   "execution_count": null,
   "id": "41c8ea2e",
   "metadata": {},
   "outputs": [],
   "source": [
    "a = \"이것은 소리없는 아우성!!\"\n",
    "print(a[1]) \n",
    "print(a[0:3])\n",
    "\n",
    "# 기억해야 할 특이한 연산자 한 개가 있어요!\n",
    "print('소리' in a) # True, False 둘 다 대문자, (자바는 true.. python True)\n",
    "\n",
    "# 문자열은 str class의 객체에요. 그러다보니.. 굉장히 많은 method를\n",
    "# 가지고 있어요!\n",
    "print('이것은 {}없는 {}'.format('소리','아우성!')) # 문자열 내부에 {} 나올 수 있는데 저 중괄호 내부를 다른 것으로 대체 가능"
   ]
  },
  {
   "cell_type": "code",
   "execution_count": null,
   "id": "3497fd94",
   "metadata": {},
   "outputs": [],
   "source": [
    "# 4. mapping \n",
    "# 우리가 익히 알고 있는 map 구조(키와 value로 데이터를 저장하는 구조) 자바는 json이었지\n",
    "# 파이썬에서는 이런 자료구조를 dictionary라고 불러요!\n",
    "# 당연히 사용하는 class는 dict\n",
    "# literal로 표현할 수 있어요! => {} 중괄호가 딕셔너리 리터럴\n",
    "# [] : list, () : tuple\n",
    "a = { 'name' : '홍길동', 'age' : 20}  # 이게 json과 생긴게 유사한거지 완전히 동일한거는 아님 딕셔너리일뿐 \n",
    "# print(type(a)) # <class 'dict'>\n",
    "\n",
    "# 자바와 다르게... python의 dictionary는 동적으로 데이터를 추가할 수 있어요!\n",
    "# 주소가 없으면 주소 항목 그냥 바로 추가해버림\n",
    "a['주소'] = '서울'\n",
    "print(a)\n",
    "# 추가할 때는 뭔가 인덱싱 방식"
   ]
  },
  {
   "cell_type": "code",
   "execution_count": 1,
   "id": "4e3736a7",
   "metadata": {},
   "outputs": [
    {
     "ename": "NameError",
     "evalue": "name 'a' is not defined",
     "output_type": "error",
     "traceback": [
      "\u001b[0;31m---------------------------------------------------------------------------\u001b[0m",
      "\u001b[0;31mNameError\u001b[0m                                 Traceback (most recent call last)",
      "Cell \u001b[0;32mIn[1], line 1\u001b[0m\n\u001b[0;32m----> 1\u001b[0m \u001b[38;5;28mprint\u001b[39m(\u001b[43ma\u001b[49m\u001b[38;5;241m.\u001b[39mkeys()) \u001b[38;5;66;03m# a의 key값들, key값이 여러개면 리스트 형태로 담는구나\u001b[39;00m\n\u001b[1;32m      2\u001b[0m \u001b[38;5;66;03m# dict_keys(['name', 'age', '주소']) 정확하게는 리스트는 아니고 리스트와 유사한 것인데 그냥 리스트처럼 사용하면됨 단 리스트는 아닐뿐\u001b[39;00m\n\u001b[1;32m      3\u001b[0m \u001b[38;5;66;03m# 즉 리스트가 가지고있는 메소드는 사용 불가능!!!!!\u001b[39;00m\n\u001b[1;32m      4\u001b[0m \n\u001b[1;32m      5\u001b[0m \u001b[38;5;66;03m# 일반적으로 for문을 이용할 때 이런걸 사용해요!\u001b[39;00m\n\u001b[1;32m      6\u001b[0m \u001b[38;5;66;03m# for ~(변수아무거나) in ~(리스트, 튜플, 리스트와 유사한 자료구조dict_keys등등) # foreach와 유사함 in 뒤에 집합형 자료구조가 옴\u001b[39;00m\n\u001b[1;32m      7\u001b[0m \u001b[38;5;28;01mfor\u001b[39;00m tmp \u001b[38;5;129;01min\u001b[39;00m a\u001b[38;5;241m.\u001b[39mkeys():\n",
      "\u001b[0;31mNameError\u001b[0m: name 'a' is not defined"
     ]
    }
   ],
   "source": [
    "print(a.keys()) # a의 key값들, key값이 여러개면 리스트 형태로 담는구나\n",
    "# dict_keys(['name', 'age', '주소']) 정확하게는 리스트는 아니고 리스트와 유사한 것인데 그냥 리스트처럼 사용하면됨 단 리스트는 아닐뿐\n",
    "# 즉 리스트가 가지고있는 메소드는 사용 불가능!!!!!\n",
    "\n",
    "# 일반적으로 for문을 이용할 때 이런걸 사용해요!\n",
    "# for ~(변수아무거나) in ~(리스트, 튜플, 리스트와 유사한 자료구조dict_keys등등) # foreach와 유사함 in 뒤에 집합형 자료구조가 옴\n",
    "for tmp in a.keys():\n",
    "    print(tmp) # 4칸을 미는게 좋음 안전함 \n",
    "    print('호호')\n",
    "#name\n",
    "#age\n",
    "#주소\n"
   ]
  },
  {
   "cell_type": "code",
   "execution_count": 4,
   "id": "e0a5baf6",
   "metadata": {},
   "outputs": [
    {
     "name": "stdout",
     "output_type": "stream",
     "text": [
      "{1, 2, 3, 4}\n",
      "<class 'set'>\n"
     ]
    }
   ],
   "source": [
    "# 5. Set\n",
    "#우리가 알고 있는 Set 이다.\n",
    "# 순서가 없다, 중복배제\n",
    "\n",
    "#literal로 set => {}\n",
    "#[], {}(key와 value의 쌍으로 표현), ()\n",
    "\n",
    "a= {1,2,3,4,1,2,3}\n",
    "print(a)\n",
    "print(type(a))"
   ]
  },
  {
   "cell_type": "code",
   "execution_count": null,
   "id": "67db11b2",
   "metadata": {},
   "outputs": [],
   "source": [
    "# 6.Bool(논리값)\n",
    "\n",
    "# True or False"
   ]
  },
  {
   "cell_type": "code",
   "execution_count": 8,
   "id": "8d044d96",
   "metadata": {},
   "outputs": [],
   "source": [
    "# control statement\n",
    "# 제어문(if,for)\n",
    "\n",
    "area = ['서울','부산','제주']\n",
    "\n",
    "if '서울' in area :\n",
    "    pass\n",
    "else:\n",
    "    print('지역안에 없다!')"
   ]
  },
  {
   "cell_type": "code",
   "execution_count": 15,
   "id": "1fae6ba6",
   "metadata": {},
   "outputs": [
    {
     "name": "stdout",
     "output_type": "stream",
     "text": [
      "홍길동 신사임당 강감찬 "
     ]
    }
   ],
   "source": [
    "# for문\n",
    "# for문은 2가지 형태로 많이 사용된다\n",
    "# 1. for ~ in range()\n",
    "# 2. for ~ in list,dict\n",
    "\n",
    "# 반복할 횟수를 명시적으로 지정할 때 많이 이용\n",
    "# print() : 인자로 들어온 문자열을 출력하고 한줄을 띄운다.\n",
    "# for test in range(5):\n",
    "#     print(test, end=' ')\n",
    "    \n",
    "a = ['홍길동','신사임당','강감찬']\n",
    "\n",
    "for name in a:\n",
    "    print(name,end=' ')"
   ]
  },
  {
   "cell_type": "code",
   "execution_count": 17,
   "id": "c5106954",
   "metadata": {},
   "outputs": [
    {
     "name": "stdout",
     "output_type": "stream",
     "text": [
      "60\n"
     ]
    }
   ],
   "source": [
    "# 함수는 어떻게 만드는가?\n",
    "\n",
    "#Javascript\n",
    "#function myFunc() {\n",
    "\n",
    "# }\n",
    "\n",
    "# Java\n",
    "# 함수가 없다. 대신 class dksdp method가 있다.\n",
    "# class A  {\n",
    "\n",
    "# }\n",
    "\n",
    "#python 에서는 함수를 만들 수 있다.\n",
    "\n",
    "def myFunc(a,b,c) :\n",
    "    return a+b+c\n",
    "\n",
    "result = myFunc(10,20,30)\n",
    "print(result)"
   ]
  }
 ],
 "metadata": {
  "kernelspec": {
   "display_name": "Python [conda env:data_env] *",
   "language": "python",
   "name": "conda-env-data_env-py"
  },
  "language_info": {
   "codemirror_mode": {
    "name": "ipython",
    "version": 3
   },
   "file_extension": ".py",
   "mimetype": "text/x-python",
   "name": "python",
   "nbconvert_exporter": "python",
   "pygments_lexer": "ipython3",
   "version": "3.8.16"
  }
 },
 "nbformat": 4,
 "nbformat_minor": 5
}
