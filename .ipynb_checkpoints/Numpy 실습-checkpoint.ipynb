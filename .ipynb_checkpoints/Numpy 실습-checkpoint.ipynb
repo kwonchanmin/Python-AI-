{
 "cells": [
  {
   "cell_type": "code",
   "execution_count": 1,
   "id": "7b274455",
   "metadata": {},
   "outputs": [],
   "source": [
    "# 이제부터 Numpy에 대해 알아보자\n",
    "# 여기서 부터는 약간의 코드와 함께 이해를 동반해야된다.\n",
    "\n",
    "# 데이터 분석, 머신러닝, 딥러닝 이런 분야를 할때\n",
    "# 가장 시간이 많이 걸리고 잘 해야되는게..\n",
    "# 데이터 수집과 정제 "
   ]
  },
  {
   "cell_type": "code",
   "execution_count": null,
   "id": "cfb9e4e7",
   "metadata": {},
   "outputs": [],
   "source": [
    "# Numpy(Numerical Python)\n",
    "# Pandas(데이터분석 모듈)와 matplotlib(시각화)의 \n",
    "# basa가 되는 기본 자료구조를 제공\n",
    "\n",
    "# Numpy는 딱 1개의 자료구조를 우리에게 제공한다.\n",
    "#ndarray 자료구조를 제공\n",
    "# n-dimensional(다 차원) array\n",
    "# 보다 적은 메모리를 필요로하고 훨씬 더 빠른 처리를 할 수 있다!\n"
   ]
  },
  {
   "cell_type": "code",
   "execution_count": 13,
   "id": "568bb1dd",
   "metadata": {},
   "outputs": [
    {
     "name": "stdout",
     "output_type": "stream",
     "text": [
      "[1, 2, 3, 4, 5]\n",
      "[1 2 3 4 5]\n",
      "<class 'numpy.ndarray'>\n",
      "[1.   2.   3.14 4.   5.  ]\n",
      "float64\n"
     ]
    }
   ],
   "source": [
    "# numpy는 외부 module이기 때문에 당연히 해당 모듈을 설치 해야된다.\n",
    "# conda install numpy\n",
    "# 설치했으면 그냥 막 쓸 수 있는가?\n",
    "import numpy as np # import를 해야지만 사용할 수 있다.\n",
    "\n",
    "a=[1,2,3,4,5] # python의 list\n",
    "print(a) #[1, 2, 3, 4, 5]\n",
    "\n",
    "b = np.array([1,2,3,4,5])\n",
    "print(b) #[1 2 3 4 5]\n",
    "print(type(b)) #<class 'numpy.ndarray'>\n",
    "# 기억해야 하는 특징이 있다.\n",
    "# list안에는 아무거나 막 들어올 수 있다.\n",
    "c=[1,3.14,'홍길동',True]\n",
    "# ndarray는 반드시 같은 데이터타입 끼리만 들어올 수 있다!!!\n",
    "d = np.array([1,2,3.14,4,5])\n",
    "\n",
    "print(d) #[1.   2.   3.14 4.   5.  ]\n",
    "print(d.dtype) #dtype = data type의 약자, float64"
   ]
  },
  {
   "cell_type": "code",
   "execution_count": 4,
   "id": "d7f53b68",
   "metadata": {},
   "outputs": [
    {
     "name": "stdout",
     "output_type": "stream",
     "text": [
      "[[1 2 3]\n",
      " [4 5 6]]\n",
      "2\n",
      "[1 2 3]\n",
      "2\n"
     ]
    }
   ],
   "source": [
    "# ndarray가 list와 가장 크게 차이가 나는건..\n",
    "# 차원을 표현할 수 있다는 거다.\n",
    "\n",
    "import numpy as np # 위에서 했기 때문에 두번 작성은 안해도 된다. 교수님 따라 코드의 완정성을 위해 적어줌\n",
    "\n",
    "myList = [[1,2,3,],[4,5,6]] # 중첩리스트\n",
    "# print(myList) #[[1, 2, 3], [4, 5, 6]]\n",
    "arr = np.array(myList)\n",
    "print(arr) #[[1 2 3]\n",
    "             #[4 5 6]]\n",
    "print(arr[0,1]) # print(arr[0][1]) 두개 결과값 2로 동일하다. 특별한 이유가 없는한 이게 정석\n",
    "print(arr[0]) # arr가 가지고 있는 0번째 행 전부를 말한다.(1차원 numpy array),[1 2 3]\n",
    "print(arr[0][1]) #2"
   ]
  },
  {
   "cell_type": "code",
   "execution_count": 6,
   "id": "a31ff67d",
   "metadata": {},
   "outputs": [
    {
     "name": "stdout",
     "output_type": "stream",
     "text": [
      "[1 2 3 4]\n",
      "int64\n",
      "1\n",
      "(4,)\n",
      "(3, 2)\n"
     ]
    }
   ],
   "source": [
    "# 중요한 속성이 있다\n",
    "\n",
    "# 1차원 ndarray를 하나 만들어 보자.\n",
    "arr = np.array([1,2,3,4])\n",
    "print(arr) #[1 2 3 4]\n",
    "print(arr.dtype) #int64\n",
    "print(arr.ndim) #n = 숫자, dim = 몇 차원인가? 를 나타낸다 , 1차원\n",
    "print(arr.shape) # 어디에서나 나온다. shape 는 차원의 수와 요소의 개수를 같이 tuple로 표현한다.\n",
    "# (4,) 튜플의 원소 개수는 차원수이고 각 차원의 숫자는 해당 차원의 요소수\n",
    "# (4,) 에서 4는 1차원에 데 이터가 4개 있다는 의미다. \n",
    "\n",
    "b = [[1,2],[3,4],[5,6]]\n",
    "arr = np.array(b)\n",
    "print(arr.shape) #(3,2) 3= 행이 3개 있다는 의미, 2= 열이 2개 라는 의미"
   ]
  },
  {
   "cell_type": "code",
   "execution_count": 17,
   "id": "39eeb35c",
   "metadata": {},
   "outputs": [
    {
     "name": "stdout",
     "output_type": "stream",
     "text": [
      "[[[1 2 3]\n",
      "  [4 5 6]]\n",
      "\n",
      " [[1 2 3]\n",
      "  [4 5 6]]]\n",
      "(2, 2, 3)\n"
     ]
    }
   ],
   "source": [
    "# 데이터 표현부터 알아보자\n",
    "\n",
    "#Python의 list\n",
    "a = 10 # Scalar 0차원에서 1차원으로 올라가면 Scalar가 여러 개 있는 거다. \n",
    "b = [10,20,30] # 1차원 , Scalar를 여러개 놓기 위해 리스트로 표현 (vector)\n",
    "c = [[1,2,3],[4,5,6]] # 2차원, 여러개의 1차원 리스트를 하나의 리스트로 묶는 형태 (matrix-행렬) \n",
    "d = [[[1,2,3],[4,5,6]],[[1,2,3],[4,5,6]]] # 3차원, 여러 개의 2차원 리스트를 하나의 리스트로 묶어 놓은 형태(이미지 데이터가 대부분 3차원 형태))\n",
    "#(4차원 :하나 이상의 이미지 형태들을 표현할 때 사용)\n",
    "#계속해서 차원을 하나의 리스트로 묶어 나가면 차원이 높아진다.\n",
    "\n",
    "#numpy의 ndarray\n",
    "# arr = np.array(b) # 1차원\n",
    "# print(arr)\n",
    "# arr = np.array(c) # 2차원\n",
    "# print(arr)\n",
    "arr = np.array(d) # 3차원\n",
    "print(arr)\n",
    "print(arr.shape) # (2, 2, 3) 행이 2개 , 열이 2개, 원소의 개수 3개"
   ]
  },
  {
   "cell_type": "code",
   "execution_count": 21,
   "id": "74c16597",
   "metadata": {},
   "outputs": [
    {
     "name": "stdout",
     "output_type": "stream",
     "text": [
      "[[0. 0. 0. 0.]\n",
      " [0. 0. 0. 0.]\n",
      " [0. 0. 0. 0.]]\n",
      "[0 2 4 6 8]\n"
     ]
    }
   ],
   "source": [
    "# ndarray를 만드는 가장 쉬운 방법\n",
    "#np.array()를 이용해서 만들었다.\n",
    "\n",
    "# 다르게 만드는 방법도 있다.\n",
    "# shape는 tuple로 표현\n",
    "\n",
    "arr = np.zeros((3,4))\n",
    "print(arr)\n",
    "\n",
    "arr = np.arange(0,10,2)\n",
    "print(arr)\n",
    "\n",
    "# 주의해야 할건 .. python의 range()는 개념이다. 실제 데이터를 메모리에 가지고 있지 않는다.\n",
    "#numpy의 arange()는 실제데이터를 가지고 있다!"
   ]
  },
  {
   "cell_type": "code",
   "execution_count": 36,
   "id": "f2dfa464",
   "metadata": {},
   "outputs": [
    {
     "name": "stdout",
     "output_type": "stream",
     "text": [
      "[[ 0  1]\n",
      " [ 2  3]\n",
      " [ 4  5]\n",
      " [ 6  7]\n",
      " [ 8  9]\n",
      " [10 11]]\n",
      "[[ 0  1  2  3]\n",
      " [ 4  5  6  7]\n",
      " [ 8  9 10 11]]\n"
     ]
    },
    {
     "ename": "ValueError",
     "evalue": "can only specify one unknown dimension",
     "output_type": "error",
     "traceback": [
      "\u001b[0;31m---------------------------------------------------------------------------\u001b[0m",
      "\u001b[0;31mValueError\u001b[0m                                Traceback (most recent call last)",
      "Cell \u001b[0;32mIn[36], line 32\u001b[0m\n\u001b[1;32m     29\u001b[0m arr2 \u001b[38;5;241m=\u001b[39m arr\u001b[38;5;241m.\u001b[39mreshape(\u001b[38;5;241m3\u001b[39m,\u001b[38;5;241m-\u001b[39m\u001b[38;5;241m1\u001b[39m)\n\u001b[1;32m     30\u001b[0m \u001b[38;5;28mprint\u001b[39m(arr2)\n\u001b[0;32m---> 32\u001b[0m arr3 \u001b[38;5;241m=\u001b[39m \u001b[43marr\u001b[49m\u001b[38;5;241;43m.\u001b[39;49m\u001b[43mreshape\u001b[49m\u001b[43m(\u001b[49m\u001b[38;5;241;43m-\u001b[39;49m\u001b[38;5;241;43m1\u001b[39;49m\u001b[43m,\u001b[49m\u001b[38;5;241;43m-\u001b[39;49m\u001b[38;5;241;43m1\u001b[39;49m\u001b[43m,\u001b[49m\u001b[38;5;241;43m2\u001b[39;49m\u001b[43m)\u001b[49m\n",
      "\u001b[0;31mValueError\u001b[0m: can only specify one unknown dimension"
     ]
    }
   ],
   "source": [
    "arr = np.arange(0,12,1) # 0을 포함해 12전까지 개수이므로 12개의 요소가 만들어진다.\n",
    "# print(arr) # 1차원 ndarray 출력, [ 0  1  2  3  4  5  6  7  8  9 10 11]\n",
    "\n",
    "# arr1 = arr.reshape(3,4) # 내가 원하는 형태의 차원으로 바꿔줄 수 있다. \n",
    "# print(arr1) #[[ 0  1  2  3]\n",
    "#              #[ 4  5  6  7]\n",
    "#              #[ 8  9 10 11]] \n",
    "        \n",
    "# arr[-1] = 100\n",
    "# print(arr) # [  0   1   2   3   4   5   6   7   8   9  10 100]\n",
    "\n",
    "# print(arr1) #[[  0   1   2   3]\n",
    "#              #[  4   5   6   7]\n",
    "#              #[  8   9  10 100]]\n",
    "#         #reshape는 1차원의 데이터를 바꾸면 2차원의 데이터도 바뀐다. reshape을 하면 view가 만들어진다.\n",
    "#         #reshape는 데이터를 가지고 있기 때문에 이런 현상이 발생하는 것이다.\n",
    "\n",
    "# arr2 = arr.reshape(2,2,3)\n",
    "# print(arr2) #3차원 # [[[  0   1   2] \n",
    "                    #[  3   4   5]]\n",
    "\n",
    "                 #[[  6   7   8]\n",
    "                  #[  9  10 100]]]\n",
    "            \n",
    "# arr1 = arr.reshape(-1,2) 이 문장이 가능한데 -1의 의미는 상관하지 않겠다는 의미이며, 나머지가 다 들어간다.\n",
    "arr1 = arr.reshape(-1,2)\n",
    "print(arr1) \n",
    "\n",
    "arr2 = arr.reshape(3,-1)\n",
    "print(arr2)\n",
    "\n",
    "arr3 = arr.reshape(-1,-1,2) # 이건 결정이 덜 났다고 판단되어 오류가 발생한다."
   ]
  },
  {
   "cell_type": "code",
   "execution_count": 48,
   "id": "980a1fb4",
   "metadata": {},
   "outputs": [
    {
     "name": "stdout",
     "output_type": "stream",
     "text": [
      "[0 1 2 3 4]\n",
      "4\n",
      "[0 1]\n",
      "[2 3]\n",
      "[0 2 4]\n",
      "[[ 1  2  3  4]\n",
      " [ 5  6  7  8]\n",
      " [ 9 10 11 12]\n",
      " [13 14 15 16]]\n",
      "7\n",
      "[7 8]\n",
      "[ 3  7 11 15]\n"
     ]
    }
   ],
   "source": [
    "# numpy array가 있으면...\n",
    "# 당연히 indexing과 slicing을 할 수 있다.\n",
    "\n",
    "arr = np.arange(0,5,1)\n",
    "print(arr) # [0 1 2 3 4]\n",
    "print(arr[-1]) # 4\n",
    "\n",
    "print(arr[0:2])  # [0 1]\n",
    "print(arr[2:-1]) # [2 3]\n",
    "print(arr[0: :2]) # 0부터 맨 끝까지 :2로 설정한 2칸씩 넘어가라는 뜻데로 작동한다. 가운데가 없는 이유는 끝까지 가라는 의미 [0 2 4]\n",
    "\n",
    "arr = np.arange(1,17,1).reshape(4,4)\n",
    "print(arr)\n",
    "print(arr[1,2]) # 7\n",
    "print(arr[1,2:4]) # [7 8]\n",
    "print(arr[:,2]) # [ 3  7 11 15] 앞의 : 는 처음부터 끝까지의 모든 행 이라는 의미이고 , 2는 행의 3번째 자리 0,1,2 순서이기 때문에 "
   ]
  },
  {
   "cell_type": "code",
   "execution_count": 52,
   "id": "540ca680",
   "metadata": {},
   "outputs": [
    {
     "name": "stdout",
     "output_type": "stream",
     "text": [
      "[0 1 2 3 4]\n",
      "[0 2 3]\n"
     ]
    }
   ],
   "source": [
    "# 기본 indexing과 slicing은 간단하다. python과 동일\n",
    "# indexing에는 특이한 indexing기법이 두개가 더 있는데\n",
    "# Boolean indexing은 기본적으로 boolean_mask를 이용해서 indexing하는 기법\n",
    "# boolean indexing은 데이터 중에 내가 원하는 조건을 가지는 데이터를 추출하는 용도로 사용\n",
    "\n",
    "arr = np.arange(0,5,1)\n",
    "print(arr)\n",
    "\n",
    "# boolean_mask는 내가 적용하는 ndarray와 shape가 같아야 한다.\n",
    "boolean_mask = np.array([True,False,True,True,False])\n",
    "\n",
    "print(arr[boolean_mask])\n",
    "\n"
   ]
  },
  {
   "cell_type": "code",
   "execution_count": 56,
   "id": "d20d59ff",
   "metadata": {},
   "outputs": [
    {
     "name": "stdout",
     "output_type": "stream",
     "text": [
      "[1 2 3 4 5]\n",
      "[10 20 30 40 50]\n",
      "[11 22 33 44 55]\n",
      "[1 2 3 4 5]\n",
      "[5 4 3 2 1]\n",
      "[False False False  True  True]\n"
     ]
    }
   ],
   "source": [
    "arr = np.array([1,2,3,4,5])\n",
    "print(arr)\n",
    "\n",
    "arr1 = np.array([10,20,30,40,50])\n",
    "print(arr1)\n",
    "\n",
    "print(arr + arr1)\n",
    "\n",
    "arr = np.array([1,2,3,4,5])\n",
    "print(arr)\n",
    "\n",
    "arr1 = np.array([5,4,3,2,1])\n",
    "print(arr1)\n",
    "\n",
    "print(arr > arr1)"
   ]
  },
  {
   "cell_type": "code",
   "execution_count": 63,
   "id": "0b034496",
   "metadata": {},
   "outputs": [
    {
     "name": "stdout",
     "output_type": "stream",
     "text": [
      "[0 1 2 3 4 5 6 7 8 9]\n",
      "[0 2 4 6 8]\n",
      "[0 2 4 6 8]\n"
     ]
    }
   ],
   "source": [
    "# 짝수만 뽑아봐라\n",
    "arr = np.arange(0,10,1)\n",
    "print(arr)\n",
    "\n",
    "boolean_mask = np.array([True,False,True,False,True,False,True,False,True,False])\n",
    "print(arr[boolean_mask]) # [0 2 4 6 8]\n",
    "\n",
    "# arr % 2 == 0 # 2로 나눈 나머지 결과값 array([0, 1, 0, 1, 0, 1, 0, 1, 0, 1])\n",
    "# 비교값을 줘서 해결\n",
    "arr[arr % 2 == 0 ]\n",
    "print(arr[arr % 2 == 0 ]) # [0 2 4 6 8]"
   ]
  },
  {
   "cell_type": "code",
   "execution_count": 66,
   "id": "84ef3ec7",
   "metadata": {},
   "outputs": [
    {
     "name": "stdout",
     "output_type": "stream",
     "text": [
      "[[ 0  1  2  3]\n",
      " [ 4  5  6  7]\n",
      " [ 8  9 10 11]]\n",
      "[[0 2]\n",
      " [4 6]]\n"
     ]
    }
   ],
   "source": [
    "# 또 다른 indexing 방법 - Fancy indexing\n",
    "\n",
    "arr = np.arange(0,12,1).reshape(3,4).copy()\n",
    "print(arr)\n",
    "\n",
    "# print(arr[2,2]) #10 Scalar\n",
    "# print(arr[1:2,2]) # [6] vector\n",
    "# print(arr[1:2,1:2]) # [[5]] matrix\n",
    "\n",
    "print(arr[:2,[0,2]])"
   ]
  },
  {
   "cell_type": "code",
   "execution_count": 67,
   "id": "a799024d",
   "metadata": {},
   "outputs": [],
   "source": [
    "# 기본적인 indexing\n",
    "# 기본적인 slicing\n",
    "# Boolean Indexing\n",
    "# Fancy Indexing\n",
    "# 에 대해서 알아보았다."
   ]
  },
  {
   "cell_type": "code",
   "execution_count": 77,
   "id": "d18da949",
   "metadata": {},
   "outputs": [
    {
     "name": "stdout",
     "output_type": "stream",
     "text": [
      "[[1 2 3]\n",
      " [4 5 6]]\n",
      "[[1 2]\n",
      " [3 4]\n",
      " [5 6]]\n",
      "[[1 2 3]\n",
      " [4 5 6]]\n",
      "[[ 2  4  6]\n",
      " [ 8 10 12]]\n"
     ]
    }
   ],
   "source": [
    "# ndarray의 연산!\n",
    "\n",
    "arr = np.array([[1,2,3],[4,5,6]])\n",
    "print(arr)\n",
    "arr1 = np.arange(1,7,1).reshape(3,2)\n",
    "arr2 = np.arange(1,7,1).reshape(2,3)\n",
    "print(arr1)\n",
    "print(arr2)\n",
    "\n",
    "# print(arr +arr1) # 결과값의 같은 위치의 연산값이 다르기 때문에 오류가 난다. 같은 위치여야지만 하기 때문에 shape이 같아야한다 \n",
    "print(arr +arr2) # 사칙연산이 가능하려면 shape(모양)이 같아야한다."
   ]
  },
  {
   "cell_type": "code",
   "execution_count": 86,
   "id": "5087e250",
   "metadata": {},
   "outputs": [
    {
     "name": "stdout",
     "output_type": "stream",
     "text": [
      "[[0 1 2]\n",
      " [3 4 5]]\n",
      "[1 2 3]\n",
      "[[1 3 5]\n",
      " [4 6 8]]\n"
     ]
    }
   ],
   "source": [
    "# arr = np.array([1,2,3,4,5])\n",
    "# print(arr)\n",
    "\n",
    "# arr + 3 # 원래는 shape이 다르기 때문에 에러가 나와야 정상이지만 넘파이가 어떻게든 수행시킬려고 한다. \n",
    "# #numpy가 형태를 맞추기 위해 3을 차원을 올리고 3을 복사한다. [3,3,3,3,3] \n",
    "# # 이를 scalar 3에 대해 broadcasting한다고 한다.\n",
    "# print(arr + 3)\n",
    "\n",
    "arr = np.arange(0,6,1).reshape(2,3)\n",
    "arr1 = np.array([1,2,3])\n",
    "# print(arr + 3)\n",
    "print(arr)\n",
    "print(arr1)\n",
    "print(arr +arr1)\n"
   ]
  },
  {
   "cell_type": "code",
   "execution_count": 89,
   "id": "1733d03d",
   "metadata": {},
   "outputs": [
    {
     "name": "stdout",
     "output_type": "stream",
     "text": [
      "[[1 2]\n",
      " [3 4]\n",
      " [5 6]]\n",
      "[[1 2]\n",
      " [3 4]]\n",
      "[[ 7 10]\n",
      " [15 22]\n",
      " [23 34]]\n"
     ]
    }
   ],
   "source": [
    "# 행렬곱연산은 어떻게 하나?\n",
    "\n",
    "arr1= np.array([[1,2],[3,4],[5,6]])\n",
    "print(arr1)\n",
    "arr2 = np.array([[1,2],[3,4]])\n",
    "print(arr2)\n",
    "\n",
    "#행렬곱 연산을 해보자\n",
    "print(np.dot(arr1,arr2)) # 결과값보다는 이런 결과를 도출할 수 있다는 것이 중요!"
   ]
  },
  {
   "cell_type": "code",
   "execution_count": 104,
   "id": "4d9f626c",
   "metadata": {},
   "outputs": [
    {
     "name": "stdout",
     "output_type": "stream",
     "text": [
      "[1 2 3 4 5]\n",
      "15\n",
      "3.0\n",
      "5\n",
      "1\n",
      "4\n",
      "15\n",
      "[[1 2 3]\n",
      " [4 5 6]]\n",
      "21\n",
      "[5 7 9]\n",
      "[ 6 15]\n"
     ]
    }
   ],
   "source": [
    "# 집계함수와 축!\n",
    "\n",
    "arr = np.arange(1,6,1)\n",
    "print(arr)\n",
    "print(arr.sum())  # 산술합계 구하는방법\n",
    "print(arr.mean()) # 산술평균 구하는방법\n",
    "print(arr.max())  # 최대값 구하는방법\n",
    "print(arr.min())  # 최소값 구하는방법\n",
    "print(arr.argmax()) # 가장 큰 값의 index를 알아내는 방법, 필요없어보이지만 필요하다.\n",
    "\n",
    "#축의 개념이 나온다 ! axis\n",
    "# 1차원 ndarray는 당연히 축이 1개이고 이걸 숫자로 표현한다.\n",
    "# 숫자로 어떻게 표현하는가? 0부터 표현\n",
    "print(arr.sum(axis=0)) # 1차원에서 x축 방향으로 다 더하라는 의미 \n",
    "# print(arr.sum(axis=1)) # 1차원에서 축값을 다른것을 주게 되면 error가 발생히여 쓰지 못한다. \n",
    "\n",
    "\n",
    "arr = np.arange(1,7,1).reshape(2,3)\n",
    "print(arr)\n",
    "print(arr.sum()) # 몽땅 더한다.\n",
    "# 2차원인 경우에는 축이 2개이다.\n",
    "# 행 방향이란 행이 증가하는 방향이다. 열 방향이란 열이 증가하는 방향이다.\n",
    "# 숫자 0 방향이 차원에 따라 바뀌므로 구분해야된다.\n",
    "# 1차원에서 0방향은 행방향, 2차원에서는 열방향, 3차원에서는 면방향이다. \n",
    "\n",
    "#2차원\n",
    "print(arr.sum(axis=0)) #열뱡향이므로 밑으로 더한다.\n",
    "print(arr.sum(axis=1)) # 행방향이므로 옆으로 더한다. "
   ]
  },
  {
   "cell_type": "code",
   "execution_count": 107,
   "id": "1446c086",
   "metadata": {},
   "outputs": [
    {
     "name": "stdout",
     "output_type": "stream",
     "text": [
      "[[False False False False]\n",
      " [False False False False]\n",
      " [False False  True  True]\n",
      " [ True  True  True  True]]\n",
      "81\n"
     ]
    }
   ],
   "source": [
    "# 10보다 큰 값의 합을 구하시오\n",
    "arr = np.array([[1,2,3,4],[5,6,7,8],[9,10,11,12],[13,14,15,16]])\n",
    "\n",
    "print(arr>10) # 결과를 True 와 False로 볼 수 있다.\n",
    "\n",
    "print(arr[arr>10].sum())\n"
   ]
  }
 ],
 "metadata": {
  "kernelspec": {
   "display_name": "Python [conda env:data_env] *",
   "language": "python",
   "name": "conda-env-data_env-py"
  },
  "language_info": {
   "codemirror_mode": {
    "name": "ipython",
    "version": 3
   },
   "file_extension": ".py",
   "mimetype": "text/x-python",
   "name": "python",
   "nbconvert_exporter": "python",
   "pygments_lexer": "ipython3",
   "version": "3.8.16"
  }
 },
 "nbformat": 4,
 "nbformat_minor": 5
}
